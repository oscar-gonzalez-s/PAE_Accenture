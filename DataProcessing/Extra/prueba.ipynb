{
  "cells": [
    {
      "cell_type": "markdown",
      "metadata": {
        "id": "c1I94qzX8dUQ"
      },
      "source": [
        "tenir a la carpeta: influencers.csv, recognition-output.json, trend-items.csv\n"
      ]
    },
    {
      "cell_type": "code",
      "execution_count": 1,
      "metadata": {
        "id": "hKfGVxAv_S6m"
      },
      "outputs": [],
      "source": [
        "import pandas as pd\n",
        "import numpy as np\n",
        "import json\n",
        "import matplotlib.pyplot as plt"
      ]
    },
    {
      "cell_type": "code",
      "execution_count": 4,
      "metadata": {
        "id": "l42Cx6_-wVUE"
      },
      "outputs": [],
      "source": [
        "def getGeneralDataframe(jsonPath, csvPath):\n",
        "  \"\"\" Funcion to obtain a dataFrame with the data of the Json file\n",
        "      Parameters: json path \"\"\"\n",
        "\n",
        "  csvdata = pd.read_csv(csvPath)\n",
        "  csvdata = csvdata.set_index(\"username\")\n",
        "\n",
        "  with open(jsonPath) as f:\n",
        "    data = json.load(f)\n",
        "\n",
        "  #Create general data frame\n",
        "  df = pd.DataFrame(columns=[ \"gender\",\"user\", \"followers\",\"likes\", \"score\",\"item0\", \"item1\",\"date\" ])\n",
        "\n",
        "  #Put the data in the data frame\n",
        "  for i in range(0,len(data['output'])):\n",
        "    df.loc[i] = [data['output'][i][\"gender\"],data['output'][i][\"user\"], data['output'][i][\"followers\"],data['output'][i][\"likes\"], csvdata.loc[data[\"output\"][i][\"user\"]].score, data['output'][i][\"item0\"], data['output'][i][\"item1\"],data['output'][i][\"date\"]]\n",
        "\n",
        "  #replace empty strig for 0\n",
        "  df = df.replace(r'^\\s*$', 0, regex=True)\n",
        "\n",
        "  #Change the type of followers and likes variables (String to int)\n",
        "  df['followers']=df['followers'].astype(int)\n",
        "  df['likes']=df['likes'].astype(int)\n",
        "\n",
        "  return df"
      ]
    },
    {
      "cell_type": "code",
      "execution_count": 5,
      "metadata": {
        "id": "HsLd3lWYzZ46"
      },
      "outputs": [],
      "source": [
        "def getFilteredDataframe(df,gender):\n",
        "  \"\"\" Funcion to obtain a dataFrame filtering the general dataframe by a specific gender\n",
        "      Parameters: Dataframe, gender (writen in the same format that the json gender parameter) \"\"\"\n",
        "  df1 = df[df[\"gender\"] == gender]\n",
        "  return df1"
      ]
    },
    {
      "cell_type": "code",
      "execution_count": 6,
      "metadata": {
        "id": "OC-OAquzcK1P"
      },
      "outputs": [],
      "source": [
        "def getHistogram(df,itemCol,title):\n",
        "  \"\"\" Funcion to obtain a Histogram of the items \n",
        "      Parameters: Dataframe, name of the column that contains the item. Example 'item0', title of the histogram \"\"\"\n",
        "\n",
        "  #Discard the NA\n",
        "  df = df[df[itemCol] != \"N/A N/A\"]\n",
        "\n",
        "  df[itemCol].value_counts().plot(kind='bar')\n",
        "  plt.title(title)\n",
        "  plt.xlabel('Item')\n",
        "  plt.ylabel('Quantity')\n",
        "  plt.show()"
      ]
    },
    {
      "cell_type": "code",
      "execution_count": 8,
      "metadata": {
        "id": "Wk1j0TCzhVKC"
      },
      "outputs": [],
      "source": [
        "def getPossibleTrend(df,item):\n",
        "  \"\"\" \n",
        "  Function to predict the items that may become trends (discard the top 40% of the histogram)\n",
        "  Parameters: Dataframe, name of the column that contains the item. Example 'item0' \"\"\"\n",
        "  \n",
        "  df_item = pd.DataFrame(columns=[\"item\",\"counts\"])\n",
        "\n",
        "  #Discard the NA\n",
        "  df = df[df[item] != \"N/A N/A\"]\n",
        "  \n",
        "  j=0\n",
        "\n",
        "  # Get the item and the item number of apparitions\n",
        "  for i in range(0, len(df[item].value_counts())):\n",
        "    df_item.loc[j]=df[item].value_counts().index.tolist()[i],df[item].value_counts()[i]\n",
        "    j=j+1\n",
        "  \n",
        " \n",
        "  # Discard the top 40% of the histogram\n",
        "  start = (round(len(df[item].value_counts())*0.4))\n",
        "  v = [0] * len(df[item].value_counts())\n",
        "\n",
        "  for i in range(start, len(df[item].value_counts())):\n",
        "    v[i]=1;\n",
        "\n",
        "  # Add a new column to the dataframe to control if the item is in the top 40% of the histogram\n",
        "  df_item['valid'] = v\n",
        "\n",
        "  return df_item"
      ]
    },
    {
      "cell_type": "code",
      "execution_count": 9,
      "metadata": {
        "id": "S1lTavrC03UG"
      },
      "outputs": [],
      "source": [
        "if __name__ == \"__main__\":\n",
        "  df = getGeneralDataframe(\"recognition-output.json\", \"influencers.csv\")\n",
        "  df_w= getFilteredDataframe(df,\"WOMAN\")\n",
        "  df_m= getFilteredDataframe(df,\"MAN\")\n",
        "\n",
        "  '''getHistogram(df_w,'item0',\"Woman top items histogram\")\n",
        "  getHistogram(df_w,'item1',\"Woman bottom items histogram\")\n",
        "  getHistogram(df_m,'item0',\"Man top items histogram\")\n",
        "  getHistogram(df_m,'item1',\"Man bottom items histogram\")'''\n",
        "\n",
        "  df_item0_w = getPossibleTrend(df_w,'item0')\n",
        "  df_item1_w = getPossibleTrend(df_w,'item1')\n",
        "  df_item0_m = getPossibleTrend(df_m,'item0')\n",
        "  df_item1_m = getPossibleTrend(df_m,'item1')\n",
        "  \n",
        " "
      ]
    },
    {
      "cell_type": "code",
      "execution_count": null,
      "metadata": {
        "id": "Vj10SLfM02bR"
      },
      "outputs": [],
      "source": [
        "df_w\n"
      ]
    },
    {
      "cell_type": "code",
      "execution_count": null,
      "metadata": {
        "id": "XVagLi9mlqsi"
      },
      "outputs": [],
      "source": [
        "df_item0_w"
      ]
    },
    {
      "cell_type": "code",
      "execution_count": 58,
      "metadata": {
        "colab": {
          "base_uri": "https://localhost:8080/",
          "height": 433
        },
        "id": "9JPFlDCE77aJ",
        "outputId": "624e5507-b43f-45a4-ce89-85e41ae71476"
      },
      "outputs": [
        {
          "ename": "FileNotFoundError",
          "evalue": "ignored",
          "output_type": "error",
          "traceback": [
            "\u001b[0;31m---------------------------------------------------------------------------\u001b[0m",
            "\u001b[0;31mFileNotFoundError\u001b[0m                         Traceback (most recent call last)",
            "\u001b[0;32m<ipython-input-58-0ab07686905d>\u001b[0m in \u001b[0;36m<module>\u001b[0;34m()\u001b[0m\n\u001b[1;32m     21\u001b[0m \u001b[0;34m\u001b[0m\u001b[0m\n\u001b[1;32m     22\u001b[0m \u001b[0;34m\u001b[0m\u001b[0m\n\u001b[0;32m---> 23\u001b[0;31m \u001b[0mdfRecord\u001b[0m\u001b[0;34m.\u001b[0m\u001b[0mto_csv\u001b[0m\u001b[0;34m(\u001b[0m\u001b[0;34mr'/Users/JoanVargas/Downloads proba.csv'\u001b[0m\u001b[0;34m)\u001b[0m\u001b[0;34m\u001b[0m\u001b[0;34m\u001b[0m\u001b[0m\n\u001b[0m\u001b[1;32m     24\u001b[0m \u001b[0;34m\u001b[0m\u001b[0m\n\u001b[1;32m     25\u001b[0m \u001b[0;34m\u001b[0m\u001b[0m\n",
            "\u001b[0;32m/usr/local/lib/python3.7/dist-packages/pandas/core/generic.py\u001b[0m in \u001b[0;36mto_csv\u001b[0;34m(self, path_or_buf, sep, na_rep, float_format, columns, header, index, index_label, mode, encoding, compression, quoting, quotechar, line_terminator, chunksize, date_format, doublequote, escapechar, decimal, errors)\u001b[0m\n\u001b[1;32m   3168\u001b[0m             \u001b[0mdecimal\u001b[0m\u001b[0;34m=\u001b[0m\u001b[0mdecimal\u001b[0m\u001b[0;34m,\u001b[0m\u001b[0;34m\u001b[0m\u001b[0;34m\u001b[0m\u001b[0m\n\u001b[1;32m   3169\u001b[0m         )\n\u001b[0;32m-> 3170\u001b[0;31m         \u001b[0mformatter\u001b[0m\u001b[0;34m.\u001b[0m\u001b[0msave\u001b[0m\u001b[0;34m(\u001b[0m\u001b[0;34m)\u001b[0m\u001b[0;34m\u001b[0m\u001b[0;34m\u001b[0m\u001b[0m\n\u001b[0m\u001b[1;32m   3171\u001b[0m \u001b[0;34m\u001b[0m\u001b[0m\n\u001b[1;32m   3172\u001b[0m         \u001b[0;32mif\u001b[0m \u001b[0mpath_or_buf\u001b[0m \u001b[0;32mis\u001b[0m \u001b[0;32mNone\u001b[0m\u001b[0;34m:\u001b[0m\u001b[0;34m\u001b[0m\u001b[0;34m\u001b[0m\u001b[0m\n",
            "\u001b[0;32m/usr/local/lib/python3.7/dist-packages/pandas/io/formats/csvs.py\u001b[0m in \u001b[0;36msave\u001b[0;34m(self)\u001b[0m\n\u001b[1;32m    188\u001b[0m                 \u001b[0mencoding\u001b[0m\u001b[0;34m=\u001b[0m\u001b[0mself\u001b[0m\u001b[0;34m.\u001b[0m\u001b[0mencoding\u001b[0m\u001b[0;34m,\u001b[0m\u001b[0;34m\u001b[0m\u001b[0;34m\u001b[0m\u001b[0m\n\u001b[1;32m    189\u001b[0m                 \u001b[0merrors\u001b[0m\u001b[0;34m=\u001b[0m\u001b[0mself\u001b[0m\u001b[0;34m.\u001b[0m\u001b[0merrors\u001b[0m\u001b[0;34m,\u001b[0m\u001b[0;34m\u001b[0m\u001b[0;34m\u001b[0m\u001b[0m\n\u001b[0;32m--> 190\u001b[0;31m                 \u001b[0mcompression\u001b[0m\u001b[0;34m=\u001b[0m\u001b[0mdict\u001b[0m\u001b[0;34m(\u001b[0m\u001b[0mself\u001b[0m\u001b[0;34m.\u001b[0m\u001b[0mcompression_args\u001b[0m\u001b[0;34m,\u001b[0m \u001b[0mmethod\u001b[0m\u001b[0;34m=\u001b[0m\u001b[0mself\u001b[0m\u001b[0;34m.\u001b[0m\u001b[0mcompression\u001b[0m\u001b[0;34m)\u001b[0m\u001b[0;34m,\u001b[0m\u001b[0;34m\u001b[0m\u001b[0;34m\u001b[0m\u001b[0m\n\u001b[0m\u001b[1;32m    191\u001b[0m             )\n\u001b[1;32m    192\u001b[0m             \u001b[0mclose\u001b[0m \u001b[0;34m=\u001b[0m \u001b[0;32mTrue\u001b[0m\u001b[0;34m\u001b[0m\u001b[0;34m\u001b[0m\u001b[0m\n",
            "\u001b[0;32m/usr/local/lib/python3.7/dist-packages/pandas/io/common.py\u001b[0m in \u001b[0;36mget_handle\u001b[0;34m(path_or_buf, mode, encoding, compression, memory_map, is_text, errors)\u001b[0m\n\u001b[1;32m    491\u001b[0m         \u001b[0;32mif\u001b[0m \u001b[0mencoding\u001b[0m\u001b[0;34m:\u001b[0m\u001b[0;34m\u001b[0m\u001b[0;34m\u001b[0m\u001b[0m\n\u001b[1;32m    492\u001b[0m             \u001b[0;31m# Encoding\u001b[0m\u001b[0;34m\u001b[0m\u001b[0;34m\u001b[0m\u001b[0;34m\u001b[0m\u001b[0m\n\u001b[0;32m--> 493\u001b[0;31m             \u001b[0mf\u001b[0m \u001b[0;34m=\u001b[0m \u001b[0mopen\u001b[0m\u001b[0;34m(\u001b[0m\u001b[0mpath_or_buf\u001b[0m\u001b[0;34m,\u001b[0m \u001b[0mmode\u001b[0m\u001b[0;34m,\u001b[0m \u001b[0mencoding\u001b[0m\u001b[0;34m=\u001b[0m\u001b[0mencoding\u001b[0m\u001b[0;34m,\u001b[0m \u001b[0merrors\u001b[0m\u001b[0;34m=\u001b[0m\u001b[0merrors\u001b[0m\u001b[0;34m,\u001b[0m \u001b[0mnewline\u001b[0m\u001b[0;34m=\u001b[0m\u001b[0;34m\"\"\u001b[0m\u001b[0;34m)\u001b[0m\u001b[0;34m\u001b[0m\u001b[0;34m\u001b[0m\u001b[0m\n\u001b[0m\u001b[1;32m    494\u001b[0m         \u001b[0;32melif\u001b[0m \u001b[0mis_text\u001b[0m\u001b[0;34m:\u001b[0m\u001b[0;34m\u001b[0m\u001b[0;34m\u001b[0m\u001b[0m\n\u001b[1;32m    495\u001b[0m             \u001b[0;31m# No explicit encoding\u001b[0m\u001b[0;34m\u001b[0m\u001b[0;34m\u001b[0m\u001b[0;34m\u001b[0m\u001b[0m\n",
            "\u001b[0;31mFileNotFoundError\u001b[0m: [Errno 2] No such file or directory: '/Users/JoanVargas/Downloads proba.csv'"
          ]
        }
      ],
      "source": [
        "  #csvdata = pd.read_csv(\"trend-items.csv\")\n",
        "\n",
        "  df_item0_w['item']\n",
        "  df1 = df_item0_m.set_index(\"item\")\n",
        "  df2 = df_item1_m.set_index(\"item\")\n",
        "  df3 = df_item0_w.set_index(\"item\")\n",
        "  df4 = df_item1_w.set_index(\"item\")\n",
        "\n",
        "\n",
        "\n",
        "  dfTrends = pd.read_csv(\"trend-items.csv\")\n",
        "  dfRecord = dfTrends\n",
        "  df_item_0 = df_item0_w.set_index(\"item\")\n",
        "  percentatge1 = (df1.loc[dfTrends[\"prendas\"][0]].counts/sum(df1[\"counts\"]))*100\n",
        "  percentatge2 = (df2.loc[dfTrends[\"prendas\"][1]].counts/sum(df1[\"counts\"]))*100\n",
        "  percentatge3 = (df3.loc[dfTrends[\"prendas\"][2]].counts/sum(df1[\"counts\"]))*100\n",
        "  percentatge4 = (df4.loc[dfTrends[\"prendas\"][3]].counts/sum(df1[\"counts\"]))*100\n",
        "  \n",
        "  percentatge = [percentatge1, percentatge2,percentatge3, percentatge3]\n",
        "  dfRecord[\"semana1\"] = percentatge\n",
        "  \n",
        "\n",
        "  dfRecord.to_csv(r'/Users/JoanVargas/Downloads proba.csv')\n",
        "\n",
        "\n",
        "  #for i in range(0,len(dfTrends)):\n",
        "   #dfRecord.loc[i] = (dfTrends[\"prendas\"][i], dfTrends[\"genero\"][i])\n",
        "\n",
        "  #dfRecord = dfTrends\n",
        "  #dfRecord[\"asd\"] = (df1.loc[dfTrends[\"prendas\"]].counts/sum(df1[\"counts\"]))*100\n",
        "\n",
        "\n",
        "#dfRecord\n",
        "  #  [data['output'][i][\"gender\"],data['output'][i][\"user\"], data['output'][i][\"followers\"],data['output'][i][\"likes\"], csvdata.loc[data[\"output\"][i][\"user\"]].score, data['output'][i][\"item0\"], data['output'][i][\"item1\"],data['output'][i][\"date\"]]\n",
        "\n",
        "#emplenar el dataframe de dfREcord amb una setmana cada vegada que llegeixi.\n",
        "#emplenar la setmana anterior amb el valor.  \n",
        "\n",
        "  \n",
        "  #df.to_csv('file_name.csv')\n",
        "\n",
        "  "
      ]
    }
  ],
  "metadata": {
    "colab": {
      "collapsed_sections": [],
      "name": "Còpia de IR_possibleTrends_v4.ipynb",
      "provenance": []
    },
    "interpreter": {
      "hash": "aee8b7b246df8f9039afb4144a1f6fd8d2ca17a180786b69acc140d282b71a49"
    },
    "kernelspec": {
      "display_name": "Python 3.9.7 64-bit",
      "name": "python3"
    },
    "language_info": {
      "codemirror_mode": {
        "name": "ipython",
        "version": 3
      },
      "file_extension": ".py",
      "mimetype": "text/x-python",
      "name": "python",
      "nbconvert_exporter": "python",
      "pygments_lexer": "ipython3",
      "version": "3.9.7"
    }
  },
  "nbformat": 4,
  "nbformat_minor": 0
}
